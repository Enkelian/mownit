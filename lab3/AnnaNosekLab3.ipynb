{
 "cells": [
  {
   "cell_type": "markdown",
   "metadata": {},
   "source": [
    "# Zadanie 1 - metoda bisekcji"
   ]
  },
  {
   "cell_type": "code",
   "execution_count": 1,
   "metadata": {},
   "outputs": [],
   "source": [
    "from mpmath import mp\n",
    "\n",
    "a1 = 1.5 * mp.pi\n",
    "b1 = 2 * mp.pi\n",
    "def f1(x): return mp.cos(x) * mp.cosh(x) - 1\n",
    "def df1(x): return mp.cos(x) * mp.sinh(x) - mp.sin(x) * mp.cosh(x)\n",
    "\n",
    "\n",
    "a2 = 0\n",
    "b2 = mp.pi / 2\n",
    "def f2(x): return 1 / x - mp.tan(x)\n",
    "def df2(x): return -1 / x ** 2 - mp.sec(x) ** 2\n",
    "\n",
    "\n",
    "a3 = 1\n",
    "b3 = 3\n",
    "def f3(x): return 2 ** (-x) + mp.e ** x + 2 * mp.cos(x) - 6\n",
    "def df3(x): return mp.e ** x - 2 ** (-x) * mp.log(2) - 2 * mp.sin(x)"
   ]
  },
  {
   "cell_type": "code",
   "execution_count": 2,
   "metadata": {},
   "outputs": [
    {
     "name": "stdout",
     "output_type": "stream",
     "text": [
      "f1, eps =  1e-07\n",
      "(mpf('4.730040760589330636491407992280178521071754'), 24)\n",
      "f1, eps =  1e-15\n",
      "(mpf('4.730040744862704228461138797858226348076418'), 51)\n",
      "f1, eps =  1e-33\n",
      "(mpf('4.73004074486270402602404810083388464880134'), 111)\n"
     ]
    }
   ],
   "source": [
    "def bisection(f, a, b, eps, prec):\n",
    "    mp.dps = prec\n",
    "    a = mp.mpf(a)\n",
    "    b = mp.mpf(b)\n",
    "    i = 0\n",
    "    while b - a > eps:\n",
    "        i += 1\n",
    "        x = (a + b) / 2\n",
    "        if f(b) * f(x) < 0:\n",
    "            a = x\n",
    "        else:\n",
    "            b = x\n",
    "\n",
    "    return (a + b) / 2, i\n",
    "\n",
    "\n",
    "p = 40\n",
    "E = [1e-7, 1e-15, 1e-33]\n",
    "for eps in E:\n",
    "    print(\"f1, eps = \",eps)\n",
    "    print(bisection(f1, a1, b1, eps, p))"
   ]
  },
  {
   "cell_type": "code",
   "execution_count": 3,
   "metadata": {},
   "outputs": [
    {
     "name": "stdout",
     "output_type": "stream",
     "text": [
      "f1, eps =  1e-07\n",
      "(mpf('0.8603336023821229229510271659640569669180721'), 24)\n",
      "f1, eps =  1e-15\n",
      "(mpf('0.8603335890193798573825193009272886237996488'), 51)\n",
      "f1, eps =  1e-33\n",
      "(mpf('0.8603335890193797624838934241376621168464631'), 111)\n"
     ]
    }
   ],
   "source": [
    "for eps in E:\n",
    "    print(\"f1, eps = \",eps)\n",
    "    print(bisection(f2, a2, b2, eps, p))"
   ]
  },
  {
   "cell_type": "code",
   "execution_count": 4,
   "metadata": {},
   "outputs": [
    {
     "name": "stdout",
     "output_type": "stream",
     "text": [
      "f3, eps =  1e-07\n",
      "(mpf('1.8293835818767547607421875'), 25)\n",
      "f3, eps =  1e-15\n",
      "(mpf('1.829383601933848968457141381804831326007843'), 51)\n",
      "f3, eps =  1e-33\n",
      "(mpf('1.82938360193384881713621294681415061826758'), 111)\n"
     ]
    }
   ],
   "source": [
    "for eps in E:\n",
    "    print(\"f3, eps = \",eps)\n",
    "    print(bisection(f3, a3, b3, eps, p))"
   ]
  },
  {
   "cell_type": "markdown",
   "metadata": {},
   "source": [
    "# Zadanie 2 - metoda Newtona"
   ]
  },
  {
   "cell_type": "code",
   "execution_count": 5,
   "metadata": {},
   "outputs": [],
   "source": [
    "def newton(f, df, a, b, eps, prec, iters):\n",
    "    mp.dps = prec\n",
    "    i = 0\n",
    "    x = (a+b)/2\n",
    "    x_p = a \n",
    "    while abs(x_p - x) > eps and i < iters:\n",
    "        x_p = x\n",
    "        x = x_p - f(x_p) / df(x_p)\n",
    "        i += 1\n",
    "    return x, i"
   ]
  },
  {
   "cell_type": "code",
   "execution_count": 6,
   "metadata": {},
   "outputs": [
    {
     "name": "stdout",
     "output_type": "stream",
     "text": [
      "f1, eps =  1e-07\n",
      "(mpf('4.730040744862704026026154791516518135085637'), 6)\n",
      "f1, eps =  1e-15\n",
      "(mpf('4.730040744862704026024048100833884819898308'), 7)\n",
      "f1, eps =  1e-33\n",
      "(mpf('4.730040744862704026024048100833884819898308'), 8)\n"
     ]
    }
   ],
   "source": [
    "p = 40\n",
    "iters = 10e9\n",
    "for eps in E:\n",
    "    print(\"f1, eps = \",eps)\n",
    "    print(newton(f1, df1, a1, b1, eps, p, iters))"
   ]
  },
  {
   "cell_type": "code",
   "execution_count": 7,
   "metadata": {},
   "outputs": [
    {
     "name": "stdout",
     "output_type": "stream",
     "text": [
      "f2, eps =  1e-07\n",
      "(mpf('0.8603335890193820717148777835702842713878186'), 3)\n",
      "f2, eps =  1e-15\n",
      "(mpf('0.8603335890193797624838934241376623334118855'), 5)\n",
      "f2, eps =  1e-33\n",
      "(mpf('0.8603335890193797624838934241376623334118855'), 6)\n"
     ]
    }
   ],
   "source": [
    "p = 40\n",
    "iters = 10e9\n",
    "for eps in E:\n",
    "    print(\"f2, eps = \",eps)\n",
    "    print(newton(f2, df2, a2, b2, eps, p, iters))"
   ]
  },
  {
   "cell_type": "code",
   "execution_count": 8,
   "metadata": {},
   "outputs": [
    {
     "name": "stdout",
     "output_type": "stream",
     "text": [
      "f3, eps =  1e-07\n",
      "(mpf('1.829383601933848817136212946911038783243317'), 5)\n",
      "f3, eps =  1e-15\n",
      "(mpf('1.829383601933848817136212946814150791294058'), 6)\n",
      "f3, eps =  1e-33\n",
      "(mpf('1.829383601933848817136212946814150791294058'), 7)\n"
     ]
    }
   ],
   "source": [
    "p = 40\n",
    "iters = 10e9\n",
    "for eps in E:\n",
    "    print(\"f3, eps = \",eps)\n",
    "    print(newton(f3, df3, a3, b3, eps, p, iters))"
   ]
  },
  {
   "cell_type": "markdown",
   "metadata": {},
   "source": [
    "# Zadanie 3 - metoda siecznych"
   ]
  },
  {
   "cell_type": "code",
   "execution_count": 9,
   "metadata": {},
   "outputs": [],
   "source": [
    "def secant(f, a, b, eps, prec, iters):\n",
    "    mp.dps = prec\n",
    "    i = 2\n",
    "    xs = [a, b]\n",
    "    while abs(xs[i-1] - xs[i-2]) > eps and i < iters:\n",
    "        xs.append((f(xs[i-1]) * xs[i-2] - f(xs[i-2]) * xs[i-1]) / (f(xs[i-1]) - f(xs[i-2])))\n",
    "        i += 1\n",
    "    return xs[-1], i"
   ]
  },
  {
   "cell_type": "code",
   "execution_count": 10,
   "metadata": {},
   "outputs": [
    {
     "name": "stdout",
     "output_type": "stream",
     "text": [
      "f2, eps =  1e-07\n",
      "(mpf('4.730040744862704071459611878651776519662841'), 8)\n",
      "f2, eps =  1e-15\n",
      "(mpf('4.730040744862704026024048097945617717026611'), 9)\n",
      "f2, eps =  1e-33\n",
      "(mpf('4.730040744862704026024048100833884819898308'), 11)\n"
     ]
    }
   ],
   "source": [
    "p = 40\n",
    "iters = 10e9\n",
    "for eps in E:\n",
    "    print(\"f2, eps = \",eps)\n",
    "    print(secant(f1, a1, b1, eps, p, iters))"
   ]
  },
  {
   "cell_type": "code",
   "execution_count": 11,
   "metadata": {},
   "outputs": [
    {
     "name": "stdout",
     "output_type": "stream",
     "text": [
      "f2, eps =  1e-07\n",
      "(mpf('0.0001000000019235482053467052352478672436464271'), 4)\n",
      "f2, eps =  1e-15\n",
      "(mpf('0.8603335890193797624838934241374615369973855'), 29)\n",
      "f2, eps =  1e-33\n",
      "(mpf('0.8603335890193797624838934241376623334118741'), 31)\n"
     ]
    }
   ],
   "source": [
    "for eps in E:\n",
    "    print(\"f2, eps = \",eps)\n",
    "    print(secant(f2, a2 + 1e-4, b2, eps, p, iters))"
   ]
  },
  {
   "cell_type": "code",
   "execution_count": 12,
   "metadata": {},
   "outputs": [
    {
     "name": "stdout",
     "output_type": "stream",
     "text": [
      "f3, eps =  1e-07\n",
      "(mpf('1.829383601933848816282244435625022434088325'), 12)\n",
      "f3, eps =  1e-15\n",
      "(mpf('1.829383601933848817136212946808931616530234'), 13)\n",
      "f3, eps =  1e-33\n",
      "(mpf('1.82938360193384881713621294681415079129408'), 15)\n"
     ]
    }
   ],
   "source": [
    "for eps in E:\n",
    "    print(\"f3, eps = \",eps)\n",
    "    print(secant(f3, a3, b3, eps, p, iters))"
   ]
  }
 ],
 "metadata": {
  "kernelspec": {
   "display_name": "Python 3",
   "language": "python",
   "name": "python3"
  },
  "language_info": {
   "codemirror_mode": {
    "name": "ipython",
    "version": 3
   },
   "file_extension": ".py",
   "mimetype": "text/x-python",
   "name": "python",
   "nbconvert_exporter": "python",
   "pygments_lexer": "ipython3",
   "version": "3.6.6"
  }
 },
 "nbformat": 4,
 "nbformat_minor": 4
}
